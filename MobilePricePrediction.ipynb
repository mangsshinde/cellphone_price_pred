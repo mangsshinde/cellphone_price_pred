{
 "cells": [
  {
   "cell_type": "code",
   "execution_count": 100,
   "source": [
    "#importing the libraries\r\n",
    "import pandas as pd\r\n",
    "import seaborn as sns\r\n",
    "import numpy as np\r\n",
    "import matplotlib.pyplot as plt\r\n",
    "import warnings\r\n",
    "warnings.filterwarnings('ignore')\r\n",
    "from sklearn.model_selection import train_test_split, GridSearchCV\r\n",
    "from sklearn.tree import DecisionTreeClassifier\r\n",
    "from sklearn.ensemble import RandomForestClassifier, AdaBoostClassifier, GradientBoostingClassifier\r\n",
    "from sklearn.metrics import confusion_matrix, classification_report, accuracy_score, roc_auc_score, roc_curve\r\n",
    "from sklearn.utils import resample\r\n",
    "from sklearn.neighbors import KNeighborsClassifier\r\n",
    "from imblearn.over_sampling import SMOTE\r\n",
    "from sklearn.linear_model import LogisticRegression\r\n",
    "from xgboost import XGBClassifier\r\n",
    "from sklearn.svm import SVC\r\n",
    "from sklearn.naive_bayes import GaussianNB\r\n",
    "from sklearn.metrics import precision_score, recall_score\r\n",
    "from sklearn.preprocessing import LabelEncoder"
   ],
   "outputs": [],
   "metadata": {}
  },
  {
   "cell_type": "code",
   "execution_count": 101,
   "source": [
    "# reading the dataset\r\n",
    "train_df = pd.read_csv(r\"G:\\MangeshDataScience\\Practice\\WorkEx\\Classification\\Mobile Price Prediction\\train_data.csv\")"
   ],
   "outputs": [],
   "metadata": {}
  },
  {
   "cell_type": "code",
   "execution_count": 102,
   "source": [
    "train_df"
   ],
   "outputs": [
    {
     "output_type": "execute_result",
     "data": {
      "text/plain": [
       "        id  battery_power  blue  clock_speed  dual_sim  fc  four_g  \\\n",
       "0        0            742     0          2.2         1   4       0   \n",
       "1        1           1509     0          0.6         1   5       0   \n",
       "2        2            641     1          1.1         0   0       1   \n",
       "3        3            733     1          0.6         1   0       0   \n",
       "4        4           1414     0          0.5         0   0       1   \n",
       "...    ...            ...   ...          ...       ...  ..     ...   \n",
       "1795  1795            667     1          0.6         0   6       1   \n",
       "1796  1796           1595     1          2.6         0   7       0   \n",
       "1797  1797           1641     0          1.1         0   6       0   \n",
       "1798  1798           1913     1          1.8         0   0       0   \n",
       "1799  1799           1187     1          2.2         0   0       1   \n",
       "\n",
       "      int_memory  m_dep  mobile_wt  ...  px_height  px_width   ram  sc_h  \\\n",
       "0             56    0.2        190  ...        577      1359  3557    16   \n",
       "1             50    0.3         81  ...       1010      1684  1540    12   \n",
       "2              7    0.9        192  ...        417       759  3595     7   \n",
       "3             63    0.3        105  ...        950      1739   984    17   \n",
       "4             15    0.8        168  ...        294      1233  1069    18   \n",
       "...          ...    ...        ...  ...        ...       ...   ...   ...   \n",
       "1795           3    0.7        185  ...         13      1463  2855     5   \n",
       "1796          12    0.3        121  ...        344       655  3608    15   \n",
       "1797          48    0.7         97  ...        224      1994  1695    13   \n",
       "1798          29    0.6        111  ...        675       742  2023    17   \n",
       "1799          46    0.4        145  ...       1173      1814  3917    13   \n",
       "\n",
       "      sc_w  talk_time  three_g  touch_screen  wifi  price_range  \n",
       "0       11         12        0             1     1            3  \n",
       "1        8          3        1             1     0            1  \n",
       "2        5         19        1             1     1            2  \n",
       "3        4          9        1             0     1            0  \n",
       "4        6         14        1             0     0            0  \n",
       "...    ...        ...      ...           ...   ...          ...  \n",
       "1795     0         19        1             0     1            2  \n",
       "1796     1         16        0             1     0            3  \n",
       "1797     6         17        1             0     1            2  \n",
       "1798    13          8        1             1     0            2  \n",
       "1799    11          8        1             0     1            3  \n",
       "\n",
       "[1800 rows x 22 columns]"
      ],
      "text/html": [
       "<div>\n",
       "<style scoped>\n",
       "    .dataframe tbody tr th:only-of-type {\n",
       "        vertical-align: middle;\n",
       "    }\n",
       "\n",
       "    .dataframe tbody tr th {\n",
       "        vertical-align: top;\n",
       "    }\n",
       "\n",
       "    .dataframe thead th {\n",
       "        text-align: right;\n",
       "    }\n",
       "</style>\n",
       "<table border=\"1\" class=\"dataframe\">\n",
       "  <thead>\n",
       "    <tr style=\"text-align: right;\">\n",
       "      <th></th>\n",
       "      <th>id</th>\n",
       "      <th>battery_power</th>\n",
       "      <th>blue</th>\n",
       "      <th>clock_speed</th>\n",
       "      <th>dual_sim</th>\n",
       "      <th>fc</th>\n",
       "      <th>four_g</th>\n",
       "      <th>int_memory</th>\n",
       "      <th>m_dep</th>\n",
       "      <th>mobile_wt</th>\n",
       "      <th>...</th>\n",
       "      <th>px_height</th>\n",
       "      <th>px_width</th>\n",
       "      <th>ram</th>\n",
       "      <th>sc_h</th>\n",
       "      <th>sc_w</th>\n",
       "      <th>talk_time</th>\n",
       "      <th>three_g</th>\n",
       "      <th>touch_screen</th>\n",
       "      <th>wifi</th>\n",
       "      <th>price_range</th>\n",
       "    </tr>\n",
       "  </thead>\n",
       "  <tbody>\n",
       "    <tr>\n",
       "      <th>0</th>\n",
       "      <td>0</td>\n",
       "      <td>742</td>\n",
       "      <td>0</td>\n",
       "      <td>2.2</td>\n",
       "      <td>1</td>\n",
       "      <td>4</td>\n",
       "      <td>0</td>\n",
       "      <td>56</td>\n",
       "      <td>0.2</td>\n",
       "      <td>190</td>\n",
       "      <td>...</td>\n",
       "      <td>577</td>\n",
       "      <td>1359</td>\n",
       "      <td>3557</td>\n",
       "      <td>16</td>\n",
       "      <td>11</td>\n",
       "      <td>12</td>\n",
       "      <td>0</td>\n",
       "      <td>1</td>\n",
       "      <td>1</td>\n",
       "      <td>3</td>\n",
       "    </tr>\n",
       "    <tr>\n",
       "      <th>1</th>\n",
       "      <td>1</td>\n",
       "      <td>1509</td>\n",
       "      <td>0</td>\n",
       "      <td>0.6</td>\n",
       "      <td>1</td>\n",
       "      <td>5</td>\n",
       "      <td>0</td>\n",
       "      <td>50</td>\n",
       "      <td>0.3</td>\n",
       "      <td>81</td>\n",
       "      <td>...</td>\n",
       "      <td>1010</td>\n",
       "      <td>1684</td>\n",
       "      <td>1540</td>\n",
       "      <td>12</td>\n",
       "      <td>8</td>\n",
       "      <td>3</td>\n",
       "      <td>1</td>\n",
       "      <td>1</td>\n",
       "      <td>0</td>\n",
       "      <td>1</td>\n",
       "    </tr>\n",
       "    <tr>\n",
       "      <th>2</th>\n",
       "      <td>2</td>\n",
       "      <td>641</td>\n",
       "      <td>1</td>\n",
       "      <td>1.1</td>\n",
       "      <td>0</td>\n",
       "      <td>0</td>\n",
       "      <td>1</td>\n",
       "      <td>7</td>\n",
       "      <td>0.9</td>\n",
       "      <td>192</td>\n",
       "      <td>...</td>\n",
       "      <td>417</td>\n",
       "      <td>759</td>\n",
       "      <td>3595</td>\n",
       "      <td>7</td>\n",
       "      <td>5</td>\n",
       "      <td>19</td>\n",
       "      <td>1</td>\n",
       "      <td>1</td>\n",
       "      <td>1</td>\n",
       "      <td>2</td>\n",
       "    </tr>\n",
       "    <tr>\n",
       "      <th>3</th>\n",
       "      <td>3</td>\n",
       "      <td>733</td>\n",
       "      <td>1</td>\n",
       "      <td>0.6</td>\n",
       "      <td>1</td>\n",
       "      <td>0</td>\n",
       "      <td>0</td>\n",
       "      <td>63</td>\n",
       "      <td>0.3</td>\n",
       "      <td>105</td>\n",
       "      <td>...</td>\n",
       "      <td>950</td>\n",
       "      <td>1739</td>\n",
       "      <td>984</td>\n",
       "      <td>17</td>\n",
       "      <td>4</td>\n",
       "      <td>9</td>\n",
       "      <td>1</td>\n",
       "      <td>0</td>\n",
       "      <td>1</td>\n",
       "      <td>0</td>\n",
       "    </tr>\n",
       "    <tr>\n",
       "      <th>4</th>\n",
       "      <td>4</td>\n",
       "      <td>1414</td>\n",
       "      <td>0</td>\n",
       "      <td>0.5</td>\n",
       "      <td>0</td>\n",
       "      <td>0</td>\n",
       "      <td>1</td>\n",
       "      <td>15</td>\n",
       "      <td>0.8</td>\n",
       "      <td>168</td>\n",
       "      <td>...</td>\n",
       "      <td>294</td>\n",
       "      <td>1233</td>\n",
       "      <td>1069</td>\n",
       "      <td>18</td>\n",
       "      <td>6</td>\n",
       "      <td>14</td>\n",
       "      <td>1</td>\n",
       "      <td>0</td>\n",
       "      <td>0</td>\n",
       "      <td>0</td>\n",
       "    </tr>\n",
       "    <tr>\n",
       "      <th>...</th>\n",
       "      <td>...</td>\n",
       "      <td>...</td>\n",
       "      <td>...</td>\n",
       "      <td>...</td>\n",
       "      <td>...</td>\n",
       "      <td>...</td>\n",
       "      <td>...</td>\n",
       "      <td>...</td>\n",
       "      <td>...</td>\n",
       "      <td>...</td>\n",
       "      <td>...</td>\n",
       "      <td>...</td>\n",
       "      <td>...</td>\n",
       "      <td>...</td>\n",
       "      <td>...</td>\n",
       "      <td>...</td>\n",
       "      <td>...</td>\n",
       "      <td>...</td>\n",
       "      <td>...</td>\n",
       "      <td>...</td>\n",
       "      <td>...</td>\n",
       "    </tr>\n",
       "    <tr>\n",
       "      <th>1795</th>\n",
       "      <td>1795</td>\n",
       "      <td>667</td>\n",
       "      <td>1</td>\n",
       "      <td>0.6</td>\n",
       "      <td>0</td>\n",
       "      <td>6</td>\n",
       "      <td>1</td>\n",
       "      <td>3</td>\n",
       "      <td>0.7</td>\n",
       "      <td>185</td>\n",
       "      <td>...</td>\n",
       "      <td>13</td>\n",
       "      <td>1463</td>\n",
       "      <td>2855</td>\n",
       "      <td>5</td>\n",
       "      <td>0</td>\n",
       "      <td>19</td>\n",
       "      <td>1</td>\n",
       "      <td>0</td>\n",
       "      <td>1</td>\n",
       "      <td>2</td>\n",
       "    </tr>\n",
       "    <tr>\n",
       "      <th>1796</th>\n",
       "      <td>1796</td>\n",
       "      <td>1595</td>\n",
       "      <td>1</td>\n",
       "      <td>2.6</td>\n",
       "      <td>0</td>\n",
       "      <td>7</td>\n",
       "      <td>0</td>\n",
       "      <td>12</td>\n",
       "      <td>0.3</td>\n",
       "      <td>121</td>\n",
       "      <td>...</td>\n",
       "      <td>344</td>\n",
       "      <td>655</td>\n",
       "      <td>3608</td>\n",
       "      <td>15</td>\n",
       "      <td>1</td>\n",
       "      <td>16</td>\n",
       "      <td>0</td>\n",
       "      <td>1</td>\n",
       "      <td>0</td>\n",
       "      <td>3</td>\n",
       "    </tr>\n",
       "    <tr>\n",
       "      <th>1797</th>\n",
       "      <td>1797</td>\n",
       "      <td>1641</td>\n",
       "      <td>0</td>\n",
       "      <td>1.1</td>\n",
       "      <td>0</td>\n",
       "      <td>6</td>\n",
       "      <td>0</td>\n",
       "      <td>48</td>\n",
       "      <td>0.7</td>\n",
       "      <td>97</td>\n",
       "      <td>...</td>\n",
       "      <td>224</td>\n",
       "      <td>1994</td>\n",
       "      <td>1695</td>\n",
       "      <td>13</td>\n",
       "      <td>6</td>\n",
       "      <td>17</td>\n",
       "      <td>1</td>\n",
       "      <td>0</td>\n",
       "      <td>1</td>\n",
       "      <td>2</td>\n",
       "    </tr>\n",
       "    <tr>\n",
       "      <th>1798</th>\n",
       "      <td>1798</td>\n",
       "      <td>1913</td>\n",
       "      <td>1</td>\n",
       "      <td>1.8</td>\n",
       "      <td>0</td>\n",
       "      <td>0</td>\n",
       "      <td>0</td>\n",
       "      <td>29</td>\n",
       "      <td>0.6</td>\n",
       "      <td>111</td>\n",
       "      <td>...</td>\n",
       "      <td>675</td>\n",
       "      <td>742</td>\n",
       "      <td>2023</td>\n",
       "      <td>17</td>\n",
       "      <td>13</td>\n",
       "      <td>8</td>\n",
       "      <td>1</td>\n",
       "      <td>1</td>\n",
       "      <td>0</td>\n",
       "      <td>2</td>\n",
       "    </tr>\n",
       "    <tr>\n",
       "      <th>1799</th>\n",
       "      <td>1799</td>\n",
       "      <td>1187</td>\n",
       "      <td>1</td>\n",
       "      <td>2.2</td>\n",
       "      <td>0</td>\n",
       "      <td>0</td>\n",
       "      <td>1</td>\n",
       "      <td>46</td>\n",
       "      <td>0.4</td>\n",
       "      <td>145</td>\n",
       "      <td>...</td>\n",
       "      <td>1173</td>\n",
       "      <td>1814</td>\n",
       "      <td>3917</td>\n",
       "      <td>13</td>\n",
       "      <td>11</td>\n",
       "      <td>8</td>\n",
       "      <td>1</td>\n",
       "      <td>0</td>\n",
       "      <td>1</td>\n",
       "      <td>3</td>\n",
       "    </tr>\n",
       "  </tbody>\n",
       "</table>\n",
       "<p>1800 rows × 22 columns</p>\n",
       "</div>"
      ]
     },
     "metadata": {},
     "execution_count": 102
    }
   ],
   "metadata": {}
  },
  {
   "cell_type": "markdown",
   "source": [
    "### Splitting the dataset into independent and dependent variables"
   ],
   "metadata": {}
  },
  {
   "cell_type": "code",
   "execution_count": 103,
   "source": [
    "X = train_df.drop(['price_range'], axis=1)\r\n",
    "y = train_df.price_range"
   ],
   "outputs": [],
   "metadata": {}
  },
  {
   "cell_type": "code",
   "execution_count": 104,
   "source": [
    "from sklearn.metrics import plot_confusion_matrix"
   ],
   "outputs": [],
   "metadata": {}
  },
  {
   "cell_type": "markdown",
   "source": [
    "### train test split"
   ],
   "metadata": {}
  },
  {
   "cell_type": "code",
   "execution_count": 105,
   "source": [
    "X_train, X_test, y_train, y_test = train_test_split(X,y,test_size=0.25, random_state=101)"
   ],
   "outputs": [],
   "metadata": {}
  },
  {
   "cell_type": "code",
   "execution_count": 106,
   "source": [
    "print('Shape of {}'.format(X_train.shape))\r\n",
    "print('Shape of {}'.format(X_test.shape))"
   ],
   "outputs": [
    {
     "output_type": "stream",
     "name": "stdout",
     "text": [
      "Shape of (1350, 21)\n",
      "Shape of (450, 21)\n"
     ]
    }
   ],
   "metadata": {}
  },
  {
   "cell_type": "markdown",
   "source": [
    "### Building the evaluation matrix"
   ],
   "metadata": {}
  },
  {
   "cell_type": "code",
   "execution_count": 107,
   "source": [
    "def print_score1(clf, X_train, y_train, X_test, y_test, train = True):\r\n",
    "    if train:\r\n",
    "        pred = clf.predict(X_train)\r\n",
    "        clf_report = pd.DataFrame(classification_report(y_train, pred, output_dict=True))\r\n",
    "        print('Training Result:========================================================')\r\n",
    "        print(f'The accuracy score for the model is: {accuracy_score(y_train,pred )*100: .2f}%')\r\n",
    "        print('________________________________________________________________________')\r\n",
    "        print(f'The classification report for the model is: \\n{clf_report}')\r\n",
    "        print('________________________________________________________________________')\r\n",
    "        plot_confusion_matrix(clf,X_train, y_train, cmap='viridis')\r\n",
    "        print('========================================================================')\r\n",
    "    elif train==False:\r\n",
    "        pred = clf.predict(X_test)\r\n",
    "        clf_report = pd.DataFrame(classification_report(y_test, pred, output_dict=True))\r\n",
    "        print('Training Result:========================================================')\r\n",
    "        print(f'The accuracy score for the model is: {accuracy_score(y_test,pred )*100: .2f}%')\r\n",
    "        print('________________________________________________________________________')\r\n",
    "        print(f'The classification report for the model is: \\n{clf_report}')\r\n",
    "        print('________________________________________________________________________')\r\n",
    "        plot_confusion_matrix(clf, X_test, y_test, cmap='cividis')\r\n",
    "        plt.show()"
   ],
   "outputs": [],
   "metadata": {}
  },
  {
   "cell_type": "markdown",
   "source": [
    "## Building & Evaluating Various Models"
   ],
   "metadata": {}
  },
  {
   "cell_type": "markdown",
   "source": [
    "### 1. Logistic Regression"
   ],
   "metadata": {}
  },
  {
   "cell_type": "code",
   "execution_count": 108,
   "source": [
    "log_reg = LogisticRegression()\r\n",
    "log_reg.fit(X_train, y_train)"
   ],
   "outputs": [
    {
     "output_type": "execute_result",
     "data": {
      "text/plain": [
       "LogisticRegression()"
      ]
     },
     "metadata": {},
     "execution_count": 108
    }
   ],
   "metadata": {}
  },
  {
   "cell_type": "code",
   "execution_count": 109,
   "source": [
    "print_score1(log_reg, X_train, y_train, X_test, y_test, train = True)\r\n",
    "print_score1(log_reg, X_train, y_train, X_test, y_test, train = False)"
   ],
   "outputs": [
    {
     "output_type": "stream",
     "name": "stdout",
     "text": [
      "Training Result:========================================================\n",
      "The accuracy score for the model is:  65.78%\n",
      "________________________________________________________________________\n",
      "The classification report for the model is: \n",
      "                    0           1           2           3  accuracy  \\\n",
      "precision    0.843949    0.583082    0.507837    0.694301  0.657778   \n",
      "recall       0.795796    0.581325    0.480712    0.770115  0.657778   \n",
      "f1-score     0.819165    0.582202    0.493902    0.730245  0.657778   \n",
      "support    333.000000  332.000000  337.000000  348.000000  0.657778   \n",
      "\n",
      "             macro avg  weighted avg  \n",
      "precision     0.657292      0.657315  \n",
      "recall        0.656987      0.657778  \n",
      "f1-score      0.656379      0.656773  \n",
      "support    1350.000000   1350.000000  \n",
      "________________________________________________________________________\n",
      "========================================================================\n",
      "Training Result:========================================================\n",
      "The accuracy score for the model is:  63.11%\n",
      "________________________________________________________________________\n",
      "The classification report for the model is: \n",
      "                    0           1           2           3  accuracy  \\\n",
      "precision    0.853211    0.598214    0.448598    0.622951  0.631111   \n",
      "recall       0.823009    0.567797    0.436364    0.697248  0.631111   \n",
      "f1-score     0.837838    0.582609    0.442396    0.658009  0.631111   \n",
      "support    113.000000  118.000000  110.000000  109.000000  0.631111   \n",
      "\n",
      "            macro avg  weighted avg  \n",
      "precision    0.630744      0.631666  \n",
      "recall       0.631104      0.631111  \n",
      "f1-score     0.630213      0.630689  \n",
      "support    450.000000    450.000000  \n",
      "________________________________________________________________________\n"
     ]
    },
    {
     "output_type": "display_data",
     "data": {
      "text/plain": [
       "<Figure size 432x288 with 2 Axes>"
      ],
      "image/png": "[encoded data removed]"
     },
     "metadata": {
      "needs_background": "light"
     }
    },
    {
     "output_type": "display_data",
     "data": {
      "text/plain": [
       "<Figure size 432x288 with 2 Axes>"
      ],
      "image/png": "[encoded data removed]"
     },
     "metadata": {
      "needs_background": "light"
     }
    }
   ],
   "metadata": {}
  },
  {
   "cell_type": "markdown",
   "source": [
    "### 3. Decision Tree"
   ],
   "metadata": {}
  },
  {
   "cell_type": "code",
   "execution_count": 110,
   "source": [
    "dtree = DecisionTreeClassifier()\r\n",
    "dtree.fit(X_train, y_train)\r\n",
    "print_score1(dtree,X_train,y_train, X_test, y_test, train=True)\r\n",
    "print_score1(dtree,X_train,y_train, X_test, y_test, train=False)"
   ],
   "outputs": [
    {
     "output_type": "stream",
     "name": "stdout",
     "text": [
      "Training Result:========================================================\n",
      "The accuracy score for the model is:  100.00%\n",
      "________________________________________________________________________\n",
      "The classification report for the model is: \n",
      "               0      1      2      3  accuracy  macro avg  weighted avg\n",
      "precision    1.0    1.0    1.0    1.0       1.0        1.0           1.0\n",
      "recall       1.0    1.0    1.0    1.0       1.0        1.0           1.0\n",
      "f1-score     1.0    1.0    1.0    1.0       1.0        1.0           1.0\n",
      "support    333.0  332.0  337.0  348.0       1.0     1350.0        1350.0\n",
      "________________________________________________________________________\n",
      "========================================================================\n",
      "Training Result:========================================================\n",
      "The accuracy score for the model is:  87.78%\n",
      "________________________________________________________________________\n",
      "The classification report for the model is: \n",
      "                    0           1           2           3  accuracy  \\\n",
      "precision    0.897436    0.846154    0.871287    0.895652  0.877778   \n",
      "recall       0.929204    0.838983    0.800000    0.944954  0.877778   \n",
      "f1-score     0.913043    0.842553    0.834123    0.919643  0.877778   \n",
      "support    113.000000  118.000000  110.000000  109.000000  0.877778   \n",
      "\n",
      "            macro avg  weighted avg  \n",
      "precision    0.877632      0.877165  \n",
      "recall       0.878285      0.877778  \n",
      "f1-score     0.877341      0.876866  \n",
      "support    450.000000    450.000000  \n",
      "________________________________________________________________________\n"
     ]
    },
    {
     "output_type": "display_data",
     "data": {
      "text/plain": [
       "<Figure size 432x288 with 2 Axes>"
      ],
      "image/png": "[encoded data removed]"
     },
     "metadata": {
      "needs_background": "light"
     }
    },
    {
     "output_type": "display_data",
     "data": {
      "text/plain": [
       "<Figure size 432x288 with 2 Axes>"
      ],
      "image/png": "[encoded data removed]"
     },
     "metadata": {
      "needs_background": "light"
     }
    }
   ],
   "metadata": {}
  },
  {
   "cell_type": "markdown",
   "source": [
    "### 3. Random Forest Model"
   ],
   "metadata": {}
  },
  {
   "cell_type": "code",
   "execution_count": 111,
   "source": [
    "rf = RandomForestClassifier().fit(X_train, y_train)\r\n",
    "print_score1(rf, X_train, y_train, X_test, y_test, train = True)\r\n",
    "print_score1(rf, X_train, y_train, X_test, y_test, train = False)"
   ],
   "outputs": [
    {
     "output_type": "stream",
     "name": "stdout",
     "text": [
      "Training Result:========================================================\n",
      "The accuracy score for the model is:  100.00%\n",
      "________________________________________________________________________\n",
      "The classification report for the model is: \n",
      "               0      1      2      3  accuracy  macro avg  weighted avg\n",
      "precision    1.0    1.0    1.0    1.0       1.0        1.0           1.0\n",
      "recall       1.0    1.0    1.0    1.0       1.0        1.0           1.0\n",
      "f1-score     1.0    1.0    1.0    1.0       1.0        1.0           1.0\n",
      "support    333.0  332.0  337.0  348.0       1.0     1350.0        1350.0\n",
      "________________________________________________________________________\n",
      "========================================================================\n",
      "Training Result:========================================================\n",
      "The accuracy score for the model is:  87.78%\n",
      "________________________________________________________________________\n",
      "The classification report for the model is: \n",
      "                    0           1           2           3  accuracy  \\\n",
      "precision    0.897436    0.822034    0.864078    0.928571  0.877778   \n",
      "recall       0.929204    0.822034    0.809091    0.954128  0.877778   \n",
      "f1-score     0.913043    0.822034    0.835681    0.941176  0.877778   \n",
      "support    113.000000  118.000000  110.000000  109.000000  0.877778   \n",
      "\n",
      "            macro avg  weighted avg  \n",
      "precision    0.878030      0.877051  \n",
      "recall       0.878614      0.877778  \n",
      "f1-score     0.877984      0.877082  \n",
      "support    450.000000    450.000000  \n",
      "________________________________________________________________________\n"
     ]
    },
    {
     "output_type": "display_data",
     "data": {
      "text/plain": [
       "<Figure size 432x288 with 2 Axes>"
      ],
      "image/png": "[encoded data removed]"
     },
     "metadata": {
      "needs_background": "light"
     }
    },
    {
     "output_type": "display_data",
     "data": {
      "text/plain": [
       "<Figure size 432x288 with 2 Axes>"
      ],
      "image/png": "[encoded data removed]"
     },
     "metadata": {
      "needs_background": "light"
     }
    }
   ],
   "metadata": {}
  },
  {
   "cell_type": "markdown",
   "source": [
    "### 4. Support Vector Machines"
   ],
   "metadata": {}
  },
  {
   "cell_type": "code",
   "execution_count": 112,
   "source": [
    "svc = SVC().fit(X_train, y_train)\r\n",
    "print_score1(svc, X_train, y_train, X_test, y_test, train=True)\r\n",
    "print_score1(svc, X_train, y_train, X_test, y_test, train=False)"
   ],
   "outputs": [
    {
     "output_type": "stream",
     "name": "stdout",
     "text": [
      "Training Result:========================================================\n",
      "The accuracy score for the model is:  94.96%\n",
      "________________________________________________________________________\n",
      "The classification report for the model is: \n",
      "                    0           1           2           3  accuracy  \\\n",
      "precision    0.976119    0.937685    0.938080    0.946479   0.94963   \n",
      "recall       0.981982    0.951807    0.899110    0.965517   0.94963   \n",
      "f1-score     0.979042    0.944694    0.918182    0.955903   0.94963   \n",
      "support    333.000000  332.000000  337.000000  348.000000   0.94963   \n",
      "\n",
      "             macro avg  weighted avg  \n",
      "precision     0.949591      0.949531  \n",
      "recall        0.949604      0.949630  \n",
      "f1-score      0.949455      0.949438  \n",
      "support    1350.000000   1350.000000  \n",
      "________________________________________________________________________\n",
      "========================================================================\n",
      "Training Result:========================================================\n",
      "The accuracy score for the model is:  94.44%\n",
      "________________________________________________________________________\n",
      "The classification report for the model is: \n",
      "                    0           1           2           3  accuracy  \\\n",
      "precision    0.956522    0.907563    0.942857    0.972973  0.944444   \n",
      "recall       0.973451    0.915254    0.900000    0.990826  0.944444   \n",
      "f1-score     0.964912    0.911392    0.920930    0.981818  0.944444   \n",
      "support    113.000000  118.000000  110.000000  109.000000  0.944444   \n",
      "\n",
      "            macro avg  weighted avg  \n",
      "precision    0.944979      0.944328  \n",
      "recall       0.944883      0.944444  \n",
      "f1-score     0.944763      0.944222  \n",
      "support    450.000000    450.000000  \n",
      "________________________________________________________________________\n"
     ]
    },
    {
     "output_type": "display_data",
     "data": {
      "text/plain": [
       "<Figure size 432x288 with 2 Axes>"
      ],
      "image/png": "[encoded data removed]"
     },
     "metadata": {
      "needs_background": "light"
     }
    },
    {
     "output_type": "display_data",
     "data": {
      "text/plain": [
       "<Figure size 432x288 with 2 Axes>"
      ],
      "image/png": "[encoded data removed]"
     },
     "metadata": {
      "needs_background": "light"
     }
    }
   ],
   "metadata": {}
  },
  {
   "cell_type": "markdown",
   "source": [
    "### 5. Naive Bayes Classifier"
   ],
   "metadata": {}
  },
  {
   "cell_type": "code",
   "execution_count": 113,
   "source": [
    "nb = GaussianNB().fit(X_train, y_train)\r\n",
    "print_score1(nb, X_train, y_train, X_test, y_test, train=True)\r\n",
    "print_score1(nb, X_train, y_train, X_test, y_test, train=False)"
   ],
   "outputs": [
    {
     "output_type": "stream",
     "name": "stdout",
     "text": [
      "Training Result:========================================================\n",
      "The accuracy score for the model is:  82.07%\n",
      "________________________________________________________________________\n",
      "The classification report for the model is: \n",
      "                    0           1           2           3  accuracy  \\\n",
      "precision    0.921450    0.740299    0.715942    0.908555  0.820741   \n",
      "recall       0.915916    0.746988    0.732938    0.885057  0.820741   \n",
      "f1-score     0.918675    0.743628    0.724340    0.896652  0.820741   \n",
      "support    333.000000  332.000000  337.000000  348.000000  0.820741   \n",
      "\n",
      "             macro avg  weighted avg  \n",
      "precision     0.821561      0.822275  \n",
      "recall        0.820225      0.820741  \n",
      "f1-score      0.820824      0.821438  \n",
      "support    1350.000000   1350.000000  \n",
      "________________________________________________________________________\n",
      "========================================================================\n",
      "Training Result:========================================================\n",
      "The accuracy score for the model is:  78.89%\n",
      "________________________________________________________________________\n",
      "The classification report for the model is: \n",
      "                    0           1           2           3  accuracy  \\\n",
      "precision    0.871560    0.684211    0.700855    0.909091  0.788889   \n",
      "recall       0.840708    0.661017    0.745455    0.917431  0.788889   \n",
      "f1-score     0.855856    0.672414    0.722467    0.913242  0.788889   \n",
      "support    113.000000  118.000000  110.000000  109.000000  0.788889   \n",
      "\n",
      "            macro avg  weighted avg  \n",
      "precision    0.791429      0.789796  \n",
      "recall       0.791153      0.788889  \n",
      "f1-score     0.790995      0.789047  \n",
      "support    450.000000    450.000000  \n",
      "________________________________________________________________________\n"
     ]
    },
    {
     "output_type": "display_data",
     "data": {
      "text/plain": [
       "<Figure size 432x288 with 2 Axes>"
      ],
      "image/png": "[encoded data removed]"
     },
     "metadata": {
      "needs_background": "light"
     }
    },
    {
     "output_type": "display_data",
     "data": {
      "text/plain": [
       "<Figure size 432x288 with 2 Axes>"
      ],
      "image/png": "[encoded data removed]"
     },
     "metadata": {
      "needs_background": "light"
     }
    }
   ],
   "metadata": {}
  },
  {
   "cell_type": "markdown",
   "source": [
    "### 6. Decision Tree with Hyperparameter Tunning"
   ],
   "metadata": {}
  },
  {
   "cell_type": "code",
   "execution_count": 114,
   "source": [
    "params = {\"criterion\":(\"gini\", \"entropy\"),\r\n",
    "\"splitter\":(\"best\", \"random\"),\r\n",
    "\"max_depth\":(list(range(1,10))),\r\n",
    "\"min_samples_split\":[2, 3, 4],\r\n",
    "\"min_samples_leaf\":list(range(1, 20))}\r\n",
    "tree_clf = DecisionTreeClassifier(random_state=42)\r\n",
    "tree_cv = GridSearchCV(tree_clf, params, scoring=\"precision\", n_jobs=-1, verbose=1, cv=5)\r\n",
    "tree_cv.fit(X_train, y_train)\r\n",
    "best_params = tree_cv.best_params_\r\n",
    "tree_clf = DecisionTreeClassifier(**best_params)\r\n",
    "tree_clf.fit(X_train, y_train)\r\n",
    "print_score1(tree_clf, X_train, y_train, X_test, y_test, train=True)\r\n",
    "print_score1(tree_clf, X_train, y_train, X_test, y_test, train=False)"
   ],
   "outputs": [
    {
     "output_type": "stream",
     "name": "stdout",
     "text": [
      "Fitting 5 folds for each of 2052 candidates, totalling 10260 fits\n"
     ]
    },
    {
     "output_type": "error",
     "ename": "KeyboardInterrupt",
     "evalue": "",
     "traceback": [
      "\u001b[1;31m---------------------------------------------------------------------------\u001b[0m",
      "\u001b[1;31mKeyboardInterrupt\u001b[0m                         Traceback (most recent call last)",
      "\u001b[1;32m~\\AppData\\Local\\Temp/ipykernel_11604/206536283.py\u001b[0m in \u001b[0;36m<module>\u001b[1;34m\u001b[0m\n\u001b[0;32m      6\u001b[0m \u001b[0mtree_clf\u001b[0m \u001b[1;33m=\u001b[0m \u001b[0mDecisionTreeClassifier\u001b[0m\u001b[1;33m(\u001b[0m\u001b[0mrandom_state\u001b[0m\u001b[1;33m=\u001b[0m\u001b[1;36m42\u001b[0m\u001b[1;33m)\u001b[0m\u001b[1;33m\u001b[0m\u001b[1;33m\u001b[0m\u001b[0m\n\u001b[0;32m      7\u001b[0m \u001b[0mtree_cv\u001b[0m \u001b[1;33m=\u001b[0m \u001b[0mGridSearchCV\u001b[0m\u001b[1;33m(\u001b[0m\u001b[0mtree_clf\u001b[0m\u001b[1;33m,\u001b[0m \u001b[0mparams\u001b[0m\u001b[1;33m,\u001b[0m \u001b[0mscoring\u001b[0m\u001b[1;33m=\u001b[0m\u001b[1;34m\"precision\"\u001b[0m\u001b[1;33m,\u001b[0m \u001b[0mn_jobs\u001b[0m\u001b[1;33m=\u001b[0m\u001b[1;33m-\u001b[0m\u001b[1;36m1\u001b[0m\u001b[1;33m,\u001b[0m \u001b[0mverbose\u001b[0m\u001b[1;33m=\u001b[0m\u001b[1;36m1\u001b[0m\u001b[1;33m,\u001b[0m \u001b[0mcv\u001b[0m\u001b[1;33m=\u001b[0m\u001b[1;36m5\u001b[0m\u001b[1;33m)\u001b[0m\u001b[1;33m\u001b[0m\u001b[1;33m\u001b[0m\u001b[0m\n\u001b[1;32m----> 8\u001b[1;33m \u001b[0mtree_cv\u001b[0m\u001b[1;33m.\u001b[0m\u001b[0mfit\u001b[0m\u001b[1;33m(\u001b[0m\u001b[0mX_train\u001b[0m\u001b[1;33m,\u001b[0m \u001b[0my_train\u001b[0m\u001b[1;33m)\u001b[0m\u001b[1;33m\u001b[0m\u001b[1;33m\u001b[0m\u001b[0m\n\u001b[0m\u001b[0;32m      9\u001b[0m \u001b[0mbest_params\u001b[0m \u001b[1;33m=\u001b[0m \u001b[0mtree_cv\u001b[0m\u001b[1;33m.\u001b[0m\u001b[0mbest_params_\u001b[0m\u001b[1;33m\u001b[0m\u001b[1;33m\u001b[0m\u001b[0m\n\u001b[0;32m     10\u001b[0m \u001b[0mtree_clf\u001b[0m \u001b[1;33m=\u001b[0m \u001b[0mDecisionTreeClassifier\u001b[0m\u001b[1;33m(\u001b[0m\u001b[1;33m**\u001b[0m\u001b[0mbest_params\u001b[0m\u001b[1;33m)\u001b[0m\u001b[1;33m\u001b[0m\u001b[1;33m\u001b[0m\u001b[0m\n",
      "\u001b[1;32mC:\\ProgramData\\Anaconda3\\lib\\site-packages\\sklearn\\utils\\validation.py\u001b[0m in \u001b[0;36minner_f\u001b[1;34m(*args, **kwargs)\u001b[0m\n\u001b[0;32m     61\u001b[0m             \u001b[0mextra_args\u001b[0m \u001b[1;33m=\u001b[0m \u001b[0mlen\u001b[0m\u001b[1;33m(\u001b[0m\u001b[0margs\u001b[0m\u001b[1;33m)\u001b[0m \u001b[1;33m-\u001b[0m \u001b[0mlen\u001b[0m\u001b[1;33m(\u001b[0m\u001b[0mall_args\u001b[0m\u001b[1;33m)\u001b[0m\u001b[1;33m\u001b[0m\u001b[1;33m\u001b[0m\u001b[0m\n\u001b[0;32m     62\u001b[0m             \u001b[1;32mif\u001b[0m \u001b[0mextra_args\u001b[0m \u001b[1;33m<=\u001b[0m \u001b[1;36m0\u001b[0m\u001b[1;33m:\u001b[0m\u001b[1;33m\u001b[0m\u001b[1;33m\u001b[0m\u001b[0m\n\u001b[1;32m---> 63\u001b[1;33m                 \u001b[1;32mreturn\u001b[0m \u001b[0mf\u001b[0m\u001b[1;33m(\u001b[0m\u001b[1;33m*\u001b[0m\u001b[0margs\u001b[0m\u001b[1;33m,\u001b[0m \u001b[1;33m**\u001b[0m\u001b[0mkwargs\u001b[0m\u001b[1;33m)\u001b[0m\u001b[1;33m\u001b[0m\u001b[1;33m\u001b[0m\u001b[0m\n\u001b[0m\u001b[0;32m     64\u001b[0m \u001b[1;33m\u001b[0m\u001b[0m\n\u001b[0;32m     65\u001b[0m             \u001b[1;31m# extra_args > 0\u001b[0m\u001b[1;33m\u001b[0m\u001b[1;33m\u001b[0m\u001b[1;33m\u001b[0m\u001b[0m\n",
      "\u001b[1;32mC:\\ProgramData\\Anaconda3\\lib\\site-packages\\sklearn\\model_selection\\_search.py\u001b[0m in \u001b[0;36mfit\u001b[1;34m(self, X, y, groups, **fit_params)\u001b[0m\n\u001b[0;32m    839\u001b[0m                 \u001b[1;32mreturn\u001b[0m \u001b[0mresults\u001b[0m\u001b[1;33m\u001b[0m\u001b[1;33m\u001b[0m\u001b[0m\n\u001b[0;32m    840\u001b[0m \u001b[1;33m\u001b[0m\u001b[0m\n\u001b[1;32m--> 841\u001b[1;33m             \u001b[0mself\u001b[0m\u001b[1;33m.\u001b[0m\u001b[0m_run_search\u001b[0m\u001b[1;33m(\u001b[0m\u001b[0mevaluate_candidates\u001b[0m\u001b[1;33m)\u001b[0m\u001b[1;33m\u001b[0m\u001b[1;33m\u001b[0m\u001b[0m\n\u001b[0m\u001b[0;32m    842\u001b[0m \u001b[1;33m\u001b[0m\u001b[0m\n\u001b[0;32m    843\u001b[0m             \u001b[1;31m# multimetric is determined here because in the case of a callable\u001b[0m\u001b[1;33m\u001b[0m\u001b[1;33m\u001b[0m\u001b[1;33m\u001b[0m\u001b[0m\n",
      "\u001b[1;32mC:\\ProgramData\\Anaconda3\\lib\\site-packages\\sklearn\\model_selection\\_search.py\u001b[0m in \u001b[0;36m_run_search\u001b[1;34m(self, evaluate_candidates)\u001b[0m\n\u001b[0;32m   1286\u001b[0m     \u001b[1;32mdef\u001b[0m \u001b[0m_run_search\u001b[0m\u001b[1;33m(\u001b[0m\u001b[0mself\u001b[0m\u001b[1;33m,\u001b[0m \u001b[0mevaluate_candidates\u001b[0m\u001b[1;33m)\u001b[0m\u001b[1;33m:\u001b[0m\u001b[1;33m\u001b[0m\u001b[1;33m\u001b[0m\u001b[0m\n\u001b[0;32m   1287\u001b[0m         \u001b[1;34m\"\"\"Search all candidates in param_grid\"\"\"\u001b[0m\u001b[1;33m\u001b[0m\u001b[1;33m\u001b[0m\u001b[0m\n\u001b[1;32m-> 1288\u001b[1;33m         \u001b[0mevaluate_candidates\u001b[0m\u001b[1;33m(\u001b[0m\u001b[0mParameterGrid\u001b[0m\u001b[1;33m(\u001b[0m\u001b[0mself\u001b[0m\u001b[1;33m.\u001b[0m\u001b[0mparam_grid\u001b[0m\u001b[1;33m)\u001b[0m\u001b[1;33m)\u001b[0m\u001b[1;33m\u001b[0m\u001b[1;33m\u001b[0m\u001b[0m\n\u001b[0m\u001b[0;32m   1289\u001b[0m \u001b[1;33m\u001b[0m\u001b[0m\n\u001b[0;32m   1290\u001b[0m \u001b[1;33m\u001b[0m\u001b[0m\n",
      "\u001b[1;32mC:\\ProgramData\\Anaconda3\\lib\\site-packages\\sklearn\\model_selection\\_search.py\u001b[0m in \u001b[0;36mevaluate_candidates\u001b[1;34m(candidate_params, cv, more_results)\u001b[0m\n\u001b[0;32m    793\u001b[0m                               n_splits, n_candidates, n_candidates * n_splits))\n\u001b[0;32m    794\u001b[0m \u001b[1;33m\u001b[0m\u001b[0m\n\u001b[1;32m--> 795\u001b[1;33m                 out = parallel(delayed(_fit_and_score)(clone(base_estimator),\n\u001b[0m\u001b[0;32m    796\u001b[0m                                                        \u001b[0mX\u001b[0m\u001b[1;33m,\u001b[0m \u001b[0my\u001b[0m\u001b[1;33m,\u001b[0m\u001b[1;33m\u001b[0m\u001b[1;33m\u001b[0m\u001b[0m\n\u001b[0;32m    797\u001b[0m                                                        \u001b[0mtrain\u001b[0m\u001b[1;33m=\u001b[0m\u001b[0mtrain\u001b[0m\u001b[1;33m,\u001b[0m \u001b[0mtest\u001b[0m\u001b[1;33m=\u001b[0m\u001b[0mtest\u001b[0m\u001b[1;33m,\u001b[0m\u001b[1;33m\u001b[0m\u001b[1;33m\u001b[0m\u001b[0m\n",
      "\u001b[1;32mC:\\ProgramData\\Anaconda3\\lib\\site-packages\\joblib\\parallel.py\u001b[0m in \u001b[0;36m__call__\u001b[1;34m(self, iterable)\u001b[0m\n\u001b[0;32m   1052\u001b[0m \u001b[1;33m\u001b[0m\u001b[0m\n\u001b[0;32m   1053\u001b[0m             \u001b[1;32mwith\u001b[0m \u001b[0mself\u001b[0m\u001b[1;33m.\u001b[0m\u001b[0m_backend\u001b[0m\u001b[1;33m.\u001b[0m\u001b[0mretrieval_context\u001b[0m\u001b[1;33m(\u001b[0m\u001b[1;33m)\u001b[0m\u001b[1;33m:\u001b[0m\u001b[1;33m\u001b[0m\u001b[1;33m\u001b[0m\u001b[0m\n\u001b[1;32m-> 1054\u001b[1;33m                 \u001b[0mself\u001b[0m\u001b[1;33m.\u001b[0m\u001b[0mretrieve\u001b[0m\u001b[1;33m(\u001b[0m\u001b[1;33m)\u001b[0m\u001b[1;33m\u001b[0m\u001b[1;33m\u001b[0m\u001b[0m\n\u001b[0m\u001b[0;32m   1055\u001b[0m             \u001b[1;31m# Make sure that we get a last message telling us we are done\u001b[0m\u001b[1;33m\u001b[0m\u001b[1;33m\u001b[0m\u001b[1;33m\u001b[0m\u001b[0m\n\u001b[0;32m   1056\u001b[0m             \u001b[0melapsed_time\u001b[0m \u001b[1;33m=\u001b[0m \u001b[0mtime\u001b[0m\u001b[1;33m.\u001b[0m\u001b[0mtime\u001b[0m\u001b[1;33m(\u001b[0m\u001b[1;33m)\u001b[0m \u001b[1;33m-\u001b[0m \u001b[0mself\u001b[0m\u001b[1;33m.\u001b[0m\u001b[0m_start_time\u001b[0m\u001b[1;33m\u001b[0m\u001b[1;33m\u001b[0m\u001b[0m\n",
      "\u001b[1;32mC:\\ProgramData\\Anaconda3\\lib\\site-packages\\joblib\\parallel.py\u001b[0m in \u001b[0;36mretrieve\u001b[1;34m(self)\u001b[0m\n\u001b[0;32m    931\u001b[0m             \u001b[1;32mtry\u001b[0m\u001b[1;33m:\u001b[0m\u001b[1;33m\u001b[0m\u001b[1;33m\u001b[0m\u001b[0m\n\u001b[0;32m    932\u001b[0m                 \u001b[1;32mif\u001b[0m \u001b[0mgetattr\u001b[0m\u001b[1;33m(\u001b[0m\u001b[0mself\u001b[0m\u001b[1;33m.\u001b[0m\u001b[0m_backend\u001b[0m\u001b[1;33m,\u001b[0m \u001b[1;34m'supports_timeout'\u001b[0m\u001b[1;33m,\u001b[0m \u001b[1;32mFalse\u001b[0m\u001b[1;33m)\u001b[0m\u001b[1;33m:\u001b[0m\u001b[1;33m\u001b[0m\u001b[1;33m\u001b[0m\u001b[0m\n\u001b[1;32m--> 933\u001b[1;33m                     \u001b[0mself\u001b[0m\u001b[1;33m.\u001b[0m\u001b[0m_output\u001b[0m\u001b[1;33m.\u001b[0m\u001b[0mextend\u001b[0m\u001b[1;33m(\u001b[0m\u001b[0mjob\u001b[0m\u001b[1;33m.\u001b[0m\u001b[0mget\u001b[0m\u001b[1;33m(\u001b[0m\u001b[0mtimeout\u001b[0m\u001b[1;33m=\u001b[0m\u001b[0mself\u001b[0m\u001b[1;33m.\u001b[0m\u001b[0mtimeout\u001b[0m\u001b[1;33m)\u001b[0m\u001b[1;33m)\u001b[0m\u001b[1;33m\u001b[0m\u001b[1;33m\u001b[0m\u001b[0m\n\u001b[0m\u001b[0;32m    934\u001b[0m                 \u001b[1;32melse\u001b[0m\u001b[1;33m:\u001b[0m\u001b[1;33m\u001b[0m\u001b[1;33m\u001b[0m\u001b[0m\n\u001b[0;32m    935\u001b[0m                     \u001b[0mself\u001b[0m\u001b[1;33m.\u001b[0m\u001b[0m_output\u001b[0m\u001b[1;33m.\u001b[0m\u001b[0mextend\u001b[0m\u001b[1;33m(\u001b[0m\u001b[0mjob\u001b[0m\u001b[1;33m.\u001b[0m\u001b[0mget\u001b[0m\u001b[1;33m(\u001b[0m\u001b[1;33m)\u001b[0m\u001b[1;33m)\u001b[0m\u001b[1;33m\u001b[0m\u001b[1;33m\u001b[0m\u001b[0m\n",
      "\u001b[1;32mC:\\ProgramData\\Anaconda3\\lib\\site-packages\\joblib\\_parallel_backends.py\u001b[0m in \u001b[0;36mwrap_future_result\u001b[1;34m(future, timeout)\u001b[0m\n\u001b[0;32m    540\u001b[0m         AsyncResults.get from multiprocessing.\"\"\"\n\u001b[0;32m    541\u001b[0m         \u001b[1;32mtry\u001b[0m\u001b[1;33m:\u001b[0m\u001b[1;33m\u001b[0m\u001b[1;33m\u001b[0m\u001b[0m\n\u001b[1;32m--> 542\u001b[1;33m             \u001b[1;32mreturn\u001b[0m \u001b[0mfuture\u001b[0m\u001b[1;33m.\u001b[0m\u001b[0mresult\u001b[0m\u001b[1;33m(\u001b[0m\u001b[0mtimeout\u001b[0m\u001b[1;33m=\u001b[0m\u001b[0mtimeout\u001b[0m\u001b[1;33m)\u001b[0m\u001b[1;33m\u001b[0m\u001b[1;33m\u001b[0m\u001b[0m\n\u001b[0m\u001b[0;32m    543\u001b[0m         \u001b[1;32mexcept\u001b[0m \u001b[0mCfTimeoutError\u001b[0m \u001b[1;32mas\u001b[0m \u001b[0me\u001b[0m\u001b[1;33m:\u001b[0m\u001b[1;33m\u001b[0m\u001b[1;33m\u001b[0m\u001b[0m\n\u001b[0;32m    544\u001b[0m             \u001b[1;32mraise\u001b[0m \u001b[0mTimeoutError\u001b[0m \u001b[1;32mfrom\u001b[0m \u001b[0me\u001b[0m\u001b[1;33m\u001b[0m\u001b[1;33m\u001b[0m\u001b[0m\n",
      "\u001b[1;32mC:\\ProgramData\\Anaconda3\\lib\\concurrent\\futures\\_base.py\u001b[0m in \u001b[0;36mresult\u001b[1;34m(self, timeout)\u001b[0m\n\u001b[0;32m    432\u001b[0m                 \u001b[1;32mreturn\u001b[0m \u001b[0mself\u001b[0m\u001b[1;33m.\u001b[0m\u001b[0m__get_result\u001b[0m\u001b[1;33m(\u001b[0m\u001b[1;33m)\u001b[0m\u001b[1;33m\u001b[0m\u001b[1;33m\u001b[0m\u001b[0m\n\u001b[0;32m    433\u001b[0m \u001b[1;33m\u001b[0m\u001b[0m\n\u001b[1;32m--> 434\u001b[1;33m             \u001b[0mself\u001b[0m\u001b[1;33m.\u001b[0m\u001b[0m_condition\u001b[0m\u001b[1;33m.\u001b[0m\u001b[0mwait\u001b[0m\u001b[1;33m(\u001b[0m\u001b[0mtimeout\u001b[0m\u001b[1;33m)\u001b[0m\u001b[1;33m\u001b[0m\u001b[1;33m\u001b[0m\u001b[0m\n\u001b[0m\u001b[0;32m    435\u001b[0m \u001b[1;33m\u001b[0m\u001b[0m\n\u001b[0;32m    436\u001b[0m             \u001b[1;32mif\u001b[0m \u001b[0mself\u001b[0m\u001b[1;33m.\u001b[0m\u001b[0m_state\u001b[0m \u001b[1;32min\u001b[0m \u001b[1;33m[\u001b[0m\u001b[0mCANCELLED\u001b[0m\u001b[1;33m,\u001b[0m \u001b[0mCANCELLED_AND_NOTIFIED\u001b[0m\u001b[1;33m]\u001b[0m\u001b[1;33m:\u001b[0m\u001b[1;33m\u001b[0m\u001b[1;33m\u001b[0m\u001b[0m\n",
      "\u001b[1;32mC:\\ProgramData\\Anaconda3\\lib\\threading.py\u001b[0m in \u001b[0;36mwait\u001b[1;34m(self, timeout)\u001b[0m\n\u001b[0;32m    300\u001b[0m         \u001b[1;32mtry\u001b[0m\u001b[1;33m:\u001b[0m    \u001b[1;31m# restore state no matter what (e.g., KeyboardInterrupt)\u001b[0m\u001b[1;33m\u001b[0m\u001b[1;33m\u001b[0m\u001b[0m\n\u001b[0;32m    301\u001b[0m             \u001b[1;32mif\u001b[0m \u001b[0mtimeout\u001b[0m \u001b[1;32mis\u001b[0m \u001b[1;32mNone\u001b[0m\u001b[1;33m:\u001b[0m\u001b[1;33m\u001b[0m\u001b[1;33m\u001b[0m\u001b[0m\n\u001b[1;32m--> 302\u001b[1;33m                 \u001b[0mwaiter\u001b[0m\u001b[1;33m.\u001b[0m\u001b[0macquire\u001b[0m\u001b[1;33m(\u001b[0m\u001b[1;33m)\u001b[0m\u001b[1;33m\u001b[0m\u001b[1;33m\u001b[0m\u001b[0m\n\u001b[0m\u001b[0;32m    303\u001b[0m                 \u001b[0mgotit\u001b[0m \u001b[1;33m=\u001b[0m \u001b[1;32mTrue\u001b[0m\u001b[1;33m\u001b[0m\u001b[1;33m\u001b[0m\u001b[0m\n\u001b[0;32m    304\u001b[0m             \u001b[1;32melse\u001b[0m\u001b[1;33m:\u001b[0m\u001b[1;33m\u001b[0m\u001b[1;33m\u001b[0m\u001b[0m\n",
      "\u001b[1;31mKeyboardInterrupt\u001b[0m: "
     ]
    }
   ],
   "metadata": {}
  },
  {
   "cell_type": "markdown",
   "source": [
    "### 7. AdaBoost Classifier"
   ],
   "metadata": {}
  },
  {
   "cell_type": "code",
   "execution_count": null,
   "source": [
    "adbup = AdaBoostClassifier().fit(X_train, y_train)\r\n",
    "print_score1(adbup, X_train, y_train, X_test, y_test, train=True)\r\n",
    "print_score1(adbup, X_train, y_train, X_test, y_test, train=False)"
   ],
   "outputs": [
    {
     "output_type": "stream",
     "name": "stdout",
     "text": [
      "Training Result:========================================================\n",
      "The accuracy score for the model is:  81.41%\n",
      "________________________________________________________________________\n",
      "The classification report for the model is: \n",
      "                    0           1           2           3  accuracy  \\\n",
      "precision    0.914179    0.715347    0.795796    0.869565  0.814074   \n",
      "recall       0.735736    0.870482    0.786350    0.862069  0.814074   \n",
      "f1-score     0.815308    0.785326    0.791045    0.865801  0.814074   \n",
      "support    333.000000  332.000000  337.000000  348.000000  0.814074   \n",
      "\n",
      "             macro avg  weighted avg  \n",
      "precision     0.823722      0.824229  \n",
      "recall        0.813659      0.814074  \n",
      "f1-score      0.814370      0.814894  \n",
      "support    1350.000000   1350.000000  \n",
      "________________________________________________________________________\n",
      "========================================================================\n",
      "Training Result:========================================================\n",
      "The accuracy score for the model is:  80.00%\n",
      "________________________________________________________________________\n",
      "The classification report for the model is: \n",
      "                    0           1           2           3  accuracy  \\\n",
      "precision    0.858586    0.702899    0.836957    0.834711       0.8   \n",
      "recall       0.752212    0.822034    0.700000    0.926606       0.8   \n",
      "f1-score     0.801887    0.757813    0.762376    0.878261       0.8   \n",
      "support    113.000000  118.000000  110.000000  109.000000       0.8   \n",
      "\n",
      "            macro avg  weighted avg  \n",
      "precision    0.808288      0.806691  \n",
      "recall       0.800213      0.800000  \n",
      "f1-score     0.800084      0.799171  \n",
      "support    450.000000    450.000000  \n",
      "________________________________________________________________________\n"
     ]
    },
    {
     "output_type": "display_data",
     "data": {
      "text/plain": [
       "<Figure size 432x288 with 2 Axes>"
      ],
      "image/png": "[encoded data removed]"
     },
     "metadata": {
      "needs_background": "light"
     }
    },
    {
     "output_type": "display_data",
     "data": {
      "text/plain": [
       "<Figure size 432x288 with 2 Axes>"
      ],
      "image/png": "[encoded data removed]"
     },
     "metadata": {
      "needs_background": "light"
     }
    }
   ],
   "metadata": {}
  },
  {
   "cell_type": "markdown",
   "source": [
    "### 8. Gradient Boosting"
   ],
   "metadata": {}
  },
  {
   "cell_type": "code",
   "execution_count": null,
   "source": [
    "gbx = GradientBoostingClassifier().fit(X_train, y_train)\r\n",
    "print_score1(gbx, X_train, y_train, X_test, y_test, train=True)\r\n",
    "print_score1(gbx, X_train, y_train, X_test, y_test, train=False)"
   ],
   "outputs": [
    {
     "output_type": "stream",
     "name": "stdout",
     "text": [
      "Training Result:========================================================\n",
      "The accuracy score for the model is:  100.00%\n",
      "________________________________________________________________________\n",
      "The classification report for the model is: \n",
      "               0      1      2      3  accuracy  macro avg  weighted avg\n",
      "precision    1.0    1.0    1.0    1.0       1.0        1.0           1.0\n",
      "recall       1.0    1.0    1.0    1.0       1.0        1.0           1.0\n",
      "f1-score     1.0    1.0    1.0    1.0       1.0        1.0           1.0\n",
      "support    333.0  332.0  337.0  348.0       1.0     1350.0        1350.0\n",
      "________________________________________________________________________\n",
      "========================================================================\n",
      "Training Result:========================================================\n",
      "The accuracy score for the model is:  91.56%\n",
      "________________________________________________________________________\n",
      "The classification report for the model is: \n",
      "                    0           1           2           3  accuracy  \\\n",
      "precision    0.913793    0.879310    0.915888    0.954955  0.915556   \n",
      "recall       0.938053    0.864407    0.890909    0.972477  0.915556   \n",
      "f1-score     0.925764    0.871795    0.903226    0.963636  0.915556   \n",
      "support    113.000000  118.000000  110.000000  109.000000  0.915556   \n",
      "\n",
      "            macro avg  weighted avg  \n",
      "precision    0.915987      0.915233  \n",
      "recall       0.916462      0.915556  \n",
      "f1-score     0.916105      0.915276  \n",
      "support    450.000000    450.000000  \n",
      "________________________________________________________________________\n"
     ]
    },
    {
     "output_type": "display_data",
     "data": {
      "text/plain": [
       "<Figure size 432x288 with 2 Axes>"
      ],
      "image/png": "[encoded data removed]"
     },
     "metadata": {
      "needs_background": "light"
     }
    },
    {
     "output_type": "display_data",
     "data": {
      "text/plain": [
       "<Figure size 432x288 with 2 Axes>"
      ],
      "image/png": "[encoded data removed]"
     },
     "metadata": {
      "needs_background": "light"
     }
    }
   ],
   "metadata": {}
  },
  {
   "cell_type": "markdown",
   "source": [
    "### 9. XGBoost"
   ],
   "metadata": {}
  },
  {
   "cell_type": "code",
   "execution_count": null,
   "source": [
    "xgb = XGBClassifier(verbosity = 0)\r\n",
    "xgb.fit(X_train, y_train)\r\n",
    "print_score1(xgb, X_train, y_train, X_test, y_test, train=True)\r\n",
    "print_score1(xgb, X_train, y_train, X_test, y_test, train=False)"
   ],
   "outputs": [
    {
     "output_type": "stream",
     "name": "stdout",
     "text": [
      "Training Result:========================================================\n",
      "The accuracy score for the model is:  100.00%\n",
      "________________________________________________________________________\n",
      "The classification report for the model is: \n",
      "               0      1      2      3  accuracy  macro avg  weighted avg\n",
      "precision    1.0    1.0    1.0    1.0       1.0        1.0           1.0\n",
      "recall       1.0    1.0    1.0    1.0       1.0        1.0           1.0\n",
      "f1-score     1.0    1.0    1.0    1.0       1.0        1.0           1.0\n",
      "support    333.0  332.0  337.0  348.0       1.0     1350.0        1350.0\n",
      "________________________________________________________________________\n",
      "========================================================================\n",
      "Training Result:========================================================\n",
      "The accuracy score for the model is:  91.78%\n",
      "________________________________________________________________________\n",
      "The classification report for the model is: \n",
      "                    0           1           2           3  accuracy  \\\n",
      "precision    0.922414    0.881356    0.923077    0.946429  0.917778   \n",
      "recall       0.946903    0.881356    0.872727    0.972477  0.917778   \n",
      "f1-score     0.934498    0.881356    0.897196    0.959276  0.917778   \n",
      "support    113.000000  118.000000  110.000000  109.000000  0.917778   \n",
      "\n",
      "            macro avg  weighted avg  \n",
      "precision    0.918319      0.917627  \n",
      "recall       0.918366      0.917778  \n",
      "f1-score     0.918082      0.917447  \n",
      "support    450.000000    450.000000  \n",
      "________________________________________________________________________\n"
     ]
    },
    {
     "output_type": "display_data",
     "data": {
      "text/plain": [
       "<Figure size 432x288 with 2 Axes>"
      ],
      "image/png": "[encoded data removed]"
     },
     "metadata": {
      "needs_background": "light"
     }
    },
    {
     "output_type": "display_data",
     "data": {
      "text/plain": [
       "<Figure size 432x288 with 2 Axes>"
      ],
      "image/png": "[encoded data removed]"
     },
     "metadata": {
      "needs_background": "light"
     }
    }
   ],
   "metadata": {}
  },
  {
   "cell_type": "markdown",
   "source": [
    "### 10. KNN"
   ],
   "metadata": {}
  },
  {
   "cell_type": "code",
   "execution_count": null,
   "source": [
    "error_rate = []\r\n",
    "for i in range(1,20):\r\n",
    "    \r\n",
    "    knn = KNeighborsClassifier(n_neighbors=i)\r\n",
    "    knn.fit(X_train,y_train)\r\n",
    "    pred_i = knn.predict(X_test)\r\n",
    "    error_rate.append(np.mean(pred_i != y_test))\r\n",
    "plt.figure(figsize=(10,6))\r\n",
    "plt.plot(range(1,20),error_rate,color='blue', linestyle='dashed', marker='o',\r\n",
    "         markerfacecolor='red', markersize=5)\r\n",
    "plt.title('Error Rate vs. K Value')\r\n",
    "plt.xlabel('K')\r\n",
    "plt.ylabel('Error Rate')"
   ],
   "outputs": [
    {
     "output_type": "execute_result",
     "data": {
      "text/plain": [
       "Text(0, 0.5, 'Error Rate')"
      ]
     },
     "metadata": {},
     "execution_count": 84
    },
    {
     "output_type": "display_data",
     "data": {
      "text/plain": [
       "<Figure size 720x432 with 1 Axes>"
      ],
      "image/png": "[encoded data removed]"
     },
     "metadata": {
      "needs_background": "light"
     }
    }
   ],
   "metadata": {}
  },
  {
   "cell_type": "code",
   "execution_count": null,
   "source": [
    "from sklearn.neighbors import KNeighborsClassifier\r\n",
    "knn = KNeighborsClassifier(n_neighbors=10)\r\n",
    "knn.fit(X_train,y_train)"
   ],
   "outputs": [
    {
     "output_type": "execute_result",
     "data": {
      "text/plain": [
       "KNeighborsClassifier(n_neighbors=10)"
      ]
     },
     "metadata": {},
     "execution_count": 89
    }
   ],
   "metadata": {}
  },
  {
   "cell_type": "code",
   "execution_count": null,
   "source": [
    "print_score1(knn, X_train, y_train, X_test, y_test, train=True)\r\n",
    "print_score1(knn, X_train, y_train, X_test, y_test, train=False)"
   ],
   "outputs": [
    {
     "output_type": "stream",
     "name": "stdout",
     "text": [
      "Training Result:========================================================\n",
      "The accuracy score for the model is:  94.44%\n",
      "________________________________________________________________________\n",
      "The classification report for the model is: \n",
      "                    0           1           2           3  accuracy  \\\n",
      "precision    0.961765    0.926686    0.916914    0.972892  0.944444   \n",
      "recall       0.981982    0.951807    0.916914    0.928161  0.944444   \n",
      "f1-score     0.971768    0.939079    0.916914    0.950000  0.944444   \n",
      "support    333.000000  332.000000  337.000000  348.000000  0.944444   \n",
      "\n",
      "             macro avg  weighted avg  \n",
      "precision     0.944564      0.944810  \n",
      "recall        0.944716      0.944444  \n",
      "f1-score      0.944440      0.944424  \n",
      "support    1350.000000   1350.000000  \n",
      "________________________________________________________________________\n",
      "========================================================================\n",
      "Training Result:========================================================\n",
      "The accuracy score for the model is:  92.00%\n",
      "________________________________________________________________________\n",
      "The classification report for the model is: \n",
      "                    0           1           2           3  accuracy  \\\n",
      "precision    0.925000    0.919643    0.863248    0.980198      0.92   \n",
      "recall       0.982301    0.872881    0.918182    0.908257      0.92   \n",
      "f1-score     0.952790    0.895652    0.889868    0.942857      0.92   \n",
      "support    113.000000  118.000000  110.000000  109.000000      0.92   \n",
      "\n",
      "            macro avg  weighted avg  \n",
      "precision    0.922022       0.92187  \n",
      "recall       0.920405       0.92000  \n",
      "f1-score     0.920292       0.92002  \n",
      "support    450.000000     450.00000  \n",
      "________________________________________________________________________\n"
     ]
    },
    {
     "output_type": "display_data",
     "data": {
      "text/plain": [
       "<Figure size 432x288 with 2 Axes>"
      ],
      "image/png": "[encoded data removed]"
     },
     "metadata": {
      "needs_background": "light"
     }
    },
    {
     "output_type": "display_data",
     "data": {
      "text/plain": [
       "<Figure size 432x288 with 2 Axes>"
      ],
      "image/png": "[encoded data removed]"
     },
     "metadata": {
      "needs_background": "light"
     }
    }
   ],
   "metadata": {}
  },
  {
   "cell_type": "code",
   "execution_count": null,
   "source": [
    "import joblib\r\n",
    "joblib.dump(knn,'KNNMobPricePred.pkl')"
   ],
   "outputs": [
    {
     "output_type": "execute_result",
     "data": {
      "text/plain": [
       "['KNNMobPricePred.pkl']"
      ]
     },
     "metadata": {},
     "execution_count": 92
    }
   ],
   "metadata": {}
  },
  {
   "cell_type": "markdown",
   "source": [
    "## Price Prediction for the test dataset"
   ],
   "metadata": {}
  },
  {
   "cell_type": "code",
   "execution_count": 118,
   "source": [
    "#Importing the dataset\r\n",
    "test_df = pd.read_csv(r\"G:\\MangeshDataScience\\Practice\\WorkEx\\Classification\\Mobile Price Prediction\\test_data.csv\")"
   ],
   "outputs": [],
   "metadata": {}
  },
  {
   "cell_type": "code",
   "execution_count": 119,
   "source": [
    "test_df.head()"
   ],
   "outputs": [
    {
     "output_type": "execute_result",
     "data": {
      "text/plain": [
       "   id  battery_power  blue  clock_speed  dual_sim  fc  four_g  int_memory  \\\n",
       "0   0           1445     1          0.5         0   0       0          53   \n",
       "1   1            595     0          0.9         1   7       1          23   \n",
       "2   2           1131     1          0.5         1  11       0          49   \n",
       "3   3           1949     0          2.6         1   4       0          47   \n",
       "4   4            956     0          0.5         0   1       1          41   \n",
       "\n",
       "   m_dep  mobile_wt  ...  pc  px_height  px_width   ram  sc_h  sc_w  \\\n",
       "0    0.7        174  ...  14        386       836  1099    17     1   \n",
       "1    0.1        121  ...  17        441       810  3752    10     2   \n",
       "2    0.6        101  ...  18        658       878  1835    19    13   \n",
       "3    0.3        199  ...   7        407       822  1433    11     5   \n",
       "4    1.0        143  ...   6        511      1075  3286    17     8   \n",
       "\n",
       "   talk_time  three_g  touch_screen  wifi  \n",
       "0         20        1             0     0  \n",
       "1         18        1             1     0  \n",
       "2         16        1             1     0  \n",
       "3         20        0             0     1  \n",
       "4         12        1             1     0  \n",
       "\n",
       "[5 rows x 21 columns]"
      ],
      "text/html": [
       "<div>\n",
       "<style scoped>\n",
       "    .dataframe tbody tr th:only-of-type {\n",
       "        vertical-align: middle;\n",
       "    }\n",
       "\n",
       "    .dataframe tbody tr th {\n",
       "        vertical-align: top;\n",
       "    }\n",
       "\n",
       "    .dataframe thead th {\n",
       "        text-align: right;\n",
       "    }\n",
       "</style>\n",
       "<table border=\"1\" class=\"dataframe\">\n",
       "  <thead>\n",
       "    <tr style=\"text-align: right;\">\n",
       "      <th></th>\n",
       "      <th>id</th>\n",
       "      <th>battery_power</th>\n",
       "      <th>blue</th>\n",
       "      <th>clock_speed</th>\n",
       "      <th>dual_sim</th>\n",
       "      <th>fc</th>\n",
       "      <th>four_g</th>\n",
       "      <th>int_memory</th>\n",
       "      <th>m_dep</th>\n",
       "      <th>mobile_wt</th>\n",
       "      <th>...</th>\n",
       "      <th>pc</th>\n",
       "      <th>px_height</th>\n",
       "      <th>px_width</th>\n",
       "      <th>ram</th>\n",
       "      <th>sc_h</th>\n",
       "      <th>sc_w</th>\n",
       "      <th>talk_time</th>\n",
       "      <th>three_g</th>\n",
       "      <th>touch_screen</th>\n",
       "      <th>wifi</th>\n",
       "    </tr>\n",
       "  </thead>\n",
       "  <tbody>\n",
       "    <tr>\n",
       "      <th>0</th>\n",
       "      <td>0</td>\n",
       "      <td>1445</td>\n",
       "      <td>1</td>\n",
       "      <td>0.5</td>\n",
       "      <td>0</td>\n",
       "      <td>0</td>\n",
       "      <td>0</td>\n",
       "      <td>53</td>\n",
       "      <td>0.7</td>\n",
       "      <td>174</td>\n",
       "      <td>...</td>\n",
       "      <td>14</td>\n",
       "      <td>386</td>\n",
       "      <td>836</td>\n",
       "      <td>1099</td>\n",
       "      <td>17</td>\n",
       "      <td>1</td>\n",
       "      <td>20</td>\n",
       "      <td>1</td>\n",
       "      <td>0</td>\n",
       "      <td>0</td>\n",
       "    </tr>\n",
       "    <tr>\n",
       "      <th>1</th>\n",
       "      <td>1</td>\n",
       "      <td>595</td>\n",
       "      <td>0</td>\n",
       "      <td>0.9</td>\n",
       "      <td>1</td>\n",
       "      <td>7</td>\n",
       "      <td>1</td>\n",
       "      <td>23</td>\n",
       "      <td>0.1</td>\n",
       "      <td>121</td>\n",
       "      <td>...</td>\n",
       "      <td>17</td>\n",
       "      <td>441</td>\n",
       "      <td>810</td>\n",
       "      <td>3752</td>\n",
       "      <td>10</td>\n",
       "      <td>2</td>\n",
       "      <td>18</td>\n",
       "      <td>1</td>\n",
       "      <td>1</td>\n",
       "      <td>0</td>\n",
       "    </tr>\n",
       "    <tr>\n",
       "      <th>2</th>\n",
       "      <td>2</td>\n",
       "      <td>1131</td>\n",
       "      <td>1</td>\n",
       "      <td>0.5</td>\n",
       "      <td>1</td>\n",
       "      <td>11</td>\n",
       "      <td>0</td>\n",
       "      <td>49</td>\n",
       "      <td>0.6</td>\n",
       "      <td>101</td>\n",
       "      <td>...</td>\n",
       "      <td>18</td>\n",
       "      <td>658</td>\n",
       "      <td>878</td>\n",
       "      <td>1835</td>\n",
       "      <td>19</td>\n",
       "      <td>13</td>\n",
       "      <td>16</td>\n",
       "      <td>1</td>\n",
       "      <td>1</td>\n",
       "      <td>0</td>\n",
       "    </tr>\n",
       "    <tr>\n",
       "      <th>3</th>\n",
       "      <td>3</td>\n",
       "      <td>1949</td>\n",
       "      <td>0</td>\n",
       "      <td>2.6</td>\n",
       "      <td>1</td>\n",
       "      <td>4</td>\n",
       "      <td>0</td>\n",
       "      <td>47</td>\n",
       "      <td>0.3</td>\n",
       "      <td>199</td>\n",
       "      <td>...</td>\n",
       "      <td>7</td>\n",
       "      <td>407</td>\n",
       "      <td>822</td>\n",
       "      <td>1433</td>\n",
       "      <td>11</td>\n",
       "      <td>5</td>\n",
       "      <td>20</td>\n",
       "      <td>0</td>\n",
       "      <td>0</td>\n",
       "      <td>1</td>\n",
       "    </tr>\n",
       "    <tr>\n",
       "      <th>4</th>\n",
       "      <td>4</td>\n",
       "      <td>956</td>\n",
       "      <td>0</td>\n",
       "      <td>0.5</td>\n",
       "      <td>0</td>\n",
       "      <td>1</td>\n",
       "      <td>1</td>\n",
       "      <td>41</td>\n",
       "      <td>1.0</td>\n",
       "      <td>143</td>\n",
       "      <td>...</td>\n",
       "      <td>6</td>\n",
       "      <td>511</td>\n",
       "      <td>1075</td>\n",
       "      <td>3286</td>\n",
       "      <td>17</td>\n",
       "      <td>8</td>\n",
       "      <td>12</td>\n",
       "      <td>1</td>\n",
       "      <td>1</td>\n",
       "      <td>0</td>\n",
       "    </tr>\n",
       "  </tbody>\n",
       "</table>\n",
       "<p>5 rows × 21 columns</p>\n",
       "</div>"
      ]
     },
     "metadata": {},
     "execution_count": 119
    }
   ],
   "metadata": {}
  },
  {
   "cell_type": "code",
   "execution_count": 120,
   "source": [
    "data_test = test_df.drop(['id'], axis =1)"
   ],
   "outputs": [],
   "metadata": {}
  },
  {
   "cell_type": "code",
   "execution_count": null,
   "source": [
    "# Loading the model\r\n",
    "model = joblib.load('G:\\MangeshDataScience\\Practice\\WorkEx\\Classification\\Mobile Price Prediction\\KNNMobPricePred.pkl')"
   ],
   "outputs": [],
   "metadata": {}
  },
  {
   "cell_type": "code",
   "execution_count": 122,
   "source": [
    "# Testing the model\r\n",
    "predicted_price = model.predict(data_test)"
   ],
   "outputs": [],
   "metadata": {}
  },
  {
   "cell_type": "code",
   "execution_count": 123,
   "source": [
    "predicted_price"
   ],
   "outputs": [
    {
     "output_type": "execute_result",
     "data": {
      "text/plain": [
       "array([0, 3, 1, 1, 3, 2, 0, 3, 1, 3, 0, 3, 2, 0, 1, 1, 0, 0, 1, 1, 1, 0,\n",
       "       3, 3, 2, 1, 3, 0, 3, 0, 3, 3, 1, 0, 0, 3, 2, 2, 0, 0, 1, 0, 2, 0,\n",
       "       0, 1, 0, 3, 0, 0, 2, 3, 2, 0, 1, 3, 1, 2, 2, 3, 0, 0, 1, 2, 1, 1,\n",
       "       0, 1, 2, 0, 2, 2, 1, 2, 1, 2, 3, 2, 2, 2, 0, 2, 1, 0, 1, 2, 1, 3,\n",
       "       3, 0, 0, 1, 3, 1, 3, 2, 0, 0, 2, 1, 3, 3, 0, 3, 1, 0, 2, 2, 2, 2,\n",
       "       0, 1, 2, 3, 3, 3, 0, 3, 0, 1, 0, 1, 0, 1, 3, 0, 1, 2, 0, 3, 0, 2,\n",
       "       3, 2, 2, 2, 2, 3, 0, 2, 0, 1, 2, 1, 0, 0, 0, 0, 1, 2, 1, 3, 0, 3,\n",
       "       0, 1, 1, 0, 3, 3, 2, 2, 2, 3, 1, 0, 2, 1, 1, 1, 1, 3, 2, 2, 2, 0,\n",
       "       1, 0, 3, 2, 0, 1, 1, 1, 3, 3, 1, 0, 3, 2, 3, 0, 1, 3, 2, 3, 1, 1,\n",
       "       1, 0], dtype=int64)"
      ]
     },
     "metadata": {},
     "execution_count": 123
    }
   ],
   "metadata": {}
  },
  {
   "cell_type": "code",
   "execution_count": 124,
   "source": [
    "# Adding predicted price to test_csv\r\n",
    "test_df['price_range'] = predicted_price"
   ],
   "outputs": [],
   "metadata": {}
  },
  {
   "cell_type": "code",
   "execution_count": 125,
   "source": [
    "test_df.head()"
   ],
   "outputs": [
    {
     "output_type": "execute_result",
     "data": {
      "text/plain": [
       "   id  battery_power  blue  clock_speed  dual_sim  fc  four_g  int_memory  \\\n",
       "0   0           1445     1          0.5         0   0       0          53   \n",
       "1   1            595     0          0.9         1   7       1          23   \n",
       "2   2           1131     1          0.5         1  11       0          49   \n",
       "3   3           1949     0          2.6         1   4       0          47   \n",
       "4   4            956     0          0.5         0   1       1          41   \n",
       "\n",
       "   m_dep  mobile_wt  ...  px_height  px_width   ram  sc_h  sc_w  talk_time  \\\n",
       "0    0.7        174  ...        386       836  1099    17     1         20   \n",
       "1    0.1        121  ...        441       810  3752    10     2         18   \n",
       "2    0.6        101  ...        658       878  1835    19    13         16   \n",
       "3    0.3        199  ...        407       822  1433    11     5         20   \n",
       "4    1.0        143  ...        511      1075  3286    17     8         12   \n",
       "\n",
       "   three_g  touch_screen  wifi  price_range  \n",
       "0        1             0     0            0  \n",
       "1        1             1     0            3  \n",
       "2        1             1     0            1  \n",
       "3        0             0     1            1  \n",
       "4        1             1     0            3  \n",
       "\n",
       "[5 rows x 22 columns]"
      ],
      "text/html": [
       "<div>\n",
       "<style scoped>\n",
       "    .dataframe tbody tr th:only-of-type {\n",
       "        vertical-align: middle;\n",
       "    }\n",
       "\n",
       "    .dataframe tbody tr th {\n",
       "        vertical-align: top;\n",
       "    }\n",
       "\n",
       "    .dataframe thead th {\n",
       "        text-align: right;\n",
       "    }\n",
       "</style>\n",
       "<table border=\"1\" class=\"dataframe\">\n",
       "  <thead>\n",
       "    <tr style=\"text-align: right;\">\n",
       "      <th></th>\n",
       "      <th>id</th>\n",
       "      <th>battery_power</th>\n",
       "      <th>blue</th>\n",
       "      <th>clock_speed</th>\n",
       "      <th>dual_sim</th>\n",
       "      <th>fc</th>\n",
       "      <th>four_g</th>\n",
       "      <th>int_memory</th>\n",
       "      <th>m_dep</th>\n",
       "      <th>mobile_wt</th>\n",
       "      <th>...</th>\n",
       "      <th>px_height</th>\n",
       "      <th>px_width</th>\n",
       "      <th>ram</th>\n",
       "      <th>sc_h</th>\n",
       "      <th>sc_w</th>\n",
       "      <th>talk_time</th>\n",
       "      <th>three_g</th>\n",
       "      <th>touch_screen</th>\n",
       "      <th>wifi</th>\n",
       "      <th>price_range</th>\n",
       "    </tr>\n",
       "  </thead>\n",
       "  <tbody>\n",
       "    <tr>\n",
       "      <th>0</th>\n",
       "      <td>0</td>\n",
       "      <td>1445</td>\n",
       "      <td>1</td>\n",
       "      <td>0.5</td>\n",
       "      <td>0</td>\n",
       "      <td>0</td>\n",
       "      <td>0</td>\n",
       "      <td>53</td>\n",
       "      <td>0.7</td>\n",
       "      <td>174</td>\n",
       "      <td>...</td>\n",
       "      <td>386</td>\n",
       "      <td>836</td>\n",
       "      <td>1099</td>\n",
       "      <td>17</td>\n",
       "      <td>1</td>\n",
       "      <td>20</td>\n",
       "      <td>1</td>\n",
       "      <td>0</td>\n",
       "      <td>0</td>\n",
       "      <td>0</td>\n",
       "    </tr>\n",
       "    <tr>\n",
       "      <th>1</th>\n",
       "      <td>1</td>\n",
       "      <td>595</td>\n",
       "      <td>0</td>\n",
       "      <td>0.9</td>\n",
       "      <td>1</td>\n",
       "      <td>7</td>\n",
       "      <td>1</td>\n",
       "      <td>23</td>\n",
       "      <td>0.1</td>\n",
       "      <td>121</td>\n",
       "      <td>...</td>\n",
       "      <td>441</td>\n",
       "      <td>810</td>\n",
       "      <td>3752</td>\n",
       "      <td>10</td>\n",
       "      <td>2</td>\n",
       "      <td>18</td>\n",
       "      <td>1</td>\n",
       "      <td>1</td>\n",
       "      <td>0</td>\n",
       "      <td>3</td>\n",
       "    </tr>\n",
       "    <tr>\n",
       "      <th>2</th>\n",
       "      <td>2</td>\n",
       "      <td>1131</td>\n",
       "      <td>1</td>\n",
       "      <td>0.5</td>\n",
       "      <td>1</td>\n",
       "      <td>11</td>\n",
       "      <td>0</td>\n",
       "      <td>49</td>\n",
       "      <td>0.6</td>\n",
       "      <td>101</td>\n",
       "      <td>...</td>\n",
       "      <td>658</td>\n",
       "      <td>878</td>\n",
       "      <td>1835</td>\n",
       "      <td>19</td>\n",
       "      <td>13</td>\n",
       "      <td>16</td>\n",
       "      <td>1</td>\n",
       "      <td>1</td>\n",
       "      <td>0</td>\n",
       "      <td>1</td>\n",
       "    </tr>\n",
       "    <tr>\n",
       "      <th>3</th>\n",
       "      <td>3</td>\n",
       "      <td>1949</td>\n",
       "      <td>0</td>\n",
       "      <td>2.6</td>\n",
       "      <td>1</td>\n",
       "      <td>4</td>\n",
       "      <td>0</td>\n",
       "      <td>47</td>\n",
       "      <td>0.3</td>\n",
       "      <td>199</td>\n",
       "      <td>...</td>\n",
       "      <td>407</td>\n",
       "      <td>822</td>\n",
       "      <td>1433</td>\n",
       "      <td>11</td>\n",
       "      <td>5</td>\n",
       "      <td>20</td>\n",
       "      <td>0</td>\n",
       "      <td>0</td>\n",
       "      <td>1</td>\n",
       "      <td>1</td>\n",
       "    </tr>\n",
       "    <tr>\n",
       "      <th>4</th>\n",
       "      <td>4</td>\n",
       "      <td>956</td>\n",
       "      <td>0</td>\n",
       "      <td>0.5</td>\n",
       "      <td>0</td>\n",
       "      <td>1</td>\n",
       "      <td>1</td>\n",
       "      <td>41</td>\n",
       "      <td>1.0</td>\n",
       "      <td>143</td>\n",
       "      <td>...</td>\n",
       "      <td>511</td>\n",
       "      <td>1075</td>\n",
       "      <td>3286</td>\n",
       "      <td>17</td>\n",
       "      <td>8</td>\n",
       "      <td>12</td>\n",
       "      <td>1</td>\n",
       "      <td>1</td>\n",
       "      <td>0</td>\n",
       "      <td>3</td>\n",
       "    </tr>\n",
       "  </tbody>\n",
       "</table>\n",
       "<p>5 rows × 22 columns</p>\n",
       "</div>"
      ]
     },
     "metadata": {},
     "execution_count": 125
    }
   ],
   "metadata": {}
  },
  {
   "cell_type": "code",
   "execution_count": 126,
   "source": [
    "submission_df = test_df[['id', 'price_range']]"
   ],
   "outputs": [],
   "metadata": {}
  },
  {
   "cell_type": "code",
   "execution_count": 132,
   "source": [
    "submission_df.to_csv(\"G:\\MangeshDataScience\\Practice\\WorkEx\\Classification\\Mobile Price Prediction\\submission_sample.csv\")"
   ],
   "outputs": [],
   "metadata": {}
  },
  {
   "cell_type": "code",
   "execution_count": 136,
   "source": [],
   "outputs": [],
   "metadata": {}
  }
 ],
 "metadata": {
  "kernelspec": {
   "name": "python3",
   "display_name": "Python 3.8.8 64-bit ('base': conda)"
  },
  "language_info": {
   "codemirror_mode": {
    "name": "ipython",
    "version": 3
   },
   "file_extension": ".py",
   "mimetype": "text/x-python",
   "name": "python",
   "nbconvert_exporter": "python",
   "pygments_lexer": "ipython3",
   "version": "3.8.8"
  },
  "interpreter": {
   "hash": "b3ba2566441a7c06988d0923437866b63cedc61552a5af99d1f4fb67d367b25f"
  }
 },
 "nbformat": 4,
 "nbformat_minor": 5
}